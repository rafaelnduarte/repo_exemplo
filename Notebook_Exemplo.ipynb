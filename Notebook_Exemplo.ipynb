{
  "nbformat": 4,
  "nbformat_minor": 0,
  "metadata": {
    "colab": {
      "name": "Notebook_Exemplo",
      "provenance": [],
      "collapsed_sections": [],
      "authorship_tag": "ABX9TyM0nWZ04DfM+613tlKQXo/l",
      "include_colab_link": true
    },
    "kernelspec": {
      "name": "python3",
      "display_name": "Python 3"
    }
  },
  "cells": [
    {
      "cell_type": "markdown",
      "metadata": {
        "id": "view-in-github",
        "colab_type": "text"
      },
      "source": [
        "<a href=\"https://colab.research.google.com/github/rafaelnduarte/repo_exemplo/blob/main/Notebook_Exemplo.ipynb\" target=\"_parent\"><img src=\"https://colab.research.google.com/assets/colab-badge.svg\" alt=\"Open In Colab\"/></a>"
      ]
    },
    {
      "cell_type": "markdown",
      "metadata": {
        "id": "laa03e-G_z_9"
      },
      "source": [
        "# Projeto Muito Top e Bem Feito Seguindo o Checklist"
      ]
    },
    {
      "cell_type": "code",
      "metadata": {
        "id": "7BeHjFMpxor2"
      },
      "source": [
        "# importando pacotes\n",
        "import pandas as pd\n",
        "import matplotlib.pyplot as plt"
      ],
      "execution_count": null,
      "outputs": []
    },
    {
      "cell_type": "code",
      "metadata": {
        "id": "Y4drrmN3-BlM"
      },
      "source": [
        ""
      ],
      "execution_count": null,
      "outputs": []
    }
  ]
}